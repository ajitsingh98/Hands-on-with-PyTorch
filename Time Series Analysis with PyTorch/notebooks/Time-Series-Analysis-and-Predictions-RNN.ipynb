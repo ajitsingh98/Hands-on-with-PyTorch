{
 "cells": [
  {
   "attachments": {},
   "cell_type": "markdown",
   "metadata": {},
   "source": [
    "<h1 align='center'>Time-Series-Prediction-with-RNNs</h1>"
   ]
  },
  {
   "cell_type": "markdown",
   "metadata": {},
   "source": []
  },
  {
   "cell_type": "markdown",
   "metadata": {},
   "source": []
  },
  {
   "attachments": {},
   "cell_type": "markdown",
   "metadata": {},
   "source": [
    "## imports"
   ]
  },
  {
   "cell_type": "code",
   "execution_count": 1,
   "metadata": {},
   "outputs": [],
   "source": [
    "import torch\n",
    "import torch.nn as nn\n",
    "\n",
    "import numpy as np\n",
    "import pandas as pd\n",
    "import matplotlib.pyplot as plt\n",
    "%matplotlib inline\n",
    "\n",
    "# This relates to plotting datetime values with matplotlib:\n",
    "from pandas.plotting import register_matplotlib_converters\n",
    "register_matplotlib_converters()"
   ]
  },
  {
   "attachments": {},
   "cell_type": "markdown",
   "metadata": {},
   "source": [
    "## Load the dataset\n",
    "We'll take advantage of pandas' built-in <a href='https://pandas.pydata.org/pandas-docs/stable/timeseries.html'>DatetimeIndex</a> by passing <tt>parse_dates=True</tt>"
   ]
  },
  {
   "cell_type": "code",
   "execution_count": 4,
   "metadata": {},
   "outputs": [
    {
     "data": {
      "text/plain": [
       "325"
      ]
     },
     "execution_count": 4,
     "metadata": {},
     "output_type": "execute_result"
    }
   ],
   "source": [
    "df = pd.read_csv('../data/Alcohol_Sales.csv',index_col=0,parse_dates=True)\n",
    "len(df)"
   ]
  },
  {
   "cell_type": "code",
   "execution_count": 5,
   "metadata": {},
   "outputs": [
    {
     "data": {
      "text/plain": [
       "325"
      ]
     },
     "execution_count": 5,
     "metadata": {},
     "output_type": "execute_result"
    }
   ],
   "source": [
    "# Always a good idea with time series data:\n",
    "df.dropna(inplace=True)\n",
    "len(df)"
   ]
  },
  {
   "cell_type": "code",
   "execution_count": 6,
   "metadata": {},
   "outputs": [
    {
     "data": {
      "text/html": [
       "<div>\n",
       "<style scoped>\n",
       "    .dataframe tbody tr th:only-of-type {\n",
       "        vertical-align: middle;\n",
       "    }\n",
       "\n",
       "    .dataframe tbody tr th {\n",
       "        vertical-align: top;\n",
       "    }\n",
       "\n",
       "    .dataframe thead th {\n",
       "        text-align: right;\n",
       "    }\n",
       "</style>\n",
       "<table border=\"1\" class=\"dataframe\">\n",
       "  <thead>\n",
       "    <tr style=\"text-align: right;\">\n",
       "      <th></th>\n",
       "      <th>S4248SM144NCEN</th>\n",
       "    </tr>\n",
       "    <tr>\n",
       "      <th>DATE</th>\n",
       "      <th></th>\n",
       "    </tr>\n",
       "  </thead>\n",
       "  <tbody>\n",
       "    <tr>\n",
       "      <th>1992-01-01</th>\n",
       "      <td>3459</td>\n",
       "    </tr>\n",
       "    <tr>\n",
       "      <th>1992-02-01</th>\n",
       "      <td>3458</td>\n",
       "    </tr>\n",
       "    <tr>\n",
       "      <th>1992-03-01</th>\n",
       "      <td>4002</td>\n",
       "    </tr>\n",
       "    <tr>\n",
       "      <th>1992-04-01</th>\n",
       "      <td>4564</td>\n",
       "    </tr>\n",
       "    <tr>\n",
       "      <th>1992-05-01</th>\n",
       "      <td>4221</td>\n",
       "    </tr>\n",
       "  </tbody>\n",
       "</table>\n",
       "</div>"
      ],
      "text/plain": [
       "            S4248SM144NCEN\n",
       "DATE                      \n",
       "1992-01-01            3459\n",
       "1992-02-01            3458\n",
       "1992-03-01            4002\n",
       "1992-04-01            4564\n",
       "1992-05-01            4221"
      ]
     },
     "execution_count": 6,
     "metadata": {},
     "output_type": "execute_result"
    }
   ],
   "source": [
    "df.head()"
   ]
  },
  {
   "cell_type": "code",
   "execution_count": 7,
   "metadata": {},
   "outputs": [
    {
     "data": {
      "text/html": [
       "<div>\n",
       "<style scoped>\n",
       "    .dataframe tbody tr th:only-of-type {\n",
       "        vertical-align: middle;\n",
       "    }\n",
       "\n",
       "    .dataframe tbody tr th {\n",
       "        vertical-align: top;\n",
       "    }\n",
       "\n",
       "    .dataframe thead th {\n",
       "        text-align: right;\n",
       "    }\n",
       "</style>\n",
       "<table border=\"1\" class=\"dataframe\">\n",
       "  <thead>\n",
       "    <tr style=\"text-align: right;\">\n",
       "      <th></th>\n",
       "      <th>S4248SM144NCEN</th>\n",
       "    </tr>\n",
       "    <tr>\n",
       "      <th>DATE</th>\n",
       "      <th></th>\n",
       "    </tr>\n",
       "  </thead>\n",
       "  <tbody>\n",
       "    <tr>\n",
       "      <th>2018-09-01</th>\n",
       "      <td>12396</td>\n",
       "    </tr>\n",
       "    <tr>\n",
       "      <th>2018-10-01</th>\n",
       "      <td>13914</td>\n",
       "    </tr>\n",
       "    <tr>\n",
       "      <th>2018-11-01</th>\n",
       "      <td>14174</td>\n",
       "    </tr>\n",
       "    <tr>\n",
       "      <th>2018-12-01</th>\n",
       "      <td>15504</td>\n",
       "    </tr>\n",
       "    <tr>\n",
       "      <th>2019-01-01</th>\n",
       "      <td>10718</td>\n",
       "    </tr>\n",
       "  </tbody>\n",
       "</table>\n",
       "</div>"
      ],
      "text/plain": [
       "            S4248SM144NCEN\n",
       "DATE                      \n",
       "2018-09-01           12396\n",
       "2018-10-01           13914\n",
       "2018-11-01           14174\n",
       "2018-12-01           15504\n",
       "2019-01-01           10718"
      ]
     },
     "execution_count": 7,
     "metadata": {},
     "output_type": "execute_result"
    }
   ],
   "source": [
    "df.tail()"
   ]
  },
  {
   "attachments": {},
   "cell_type": "markdown",
   "metadata": {},
   "source": [
    "## Plot the time series"
   ]
  },
  {
   "cell_type": "code",
   "execution_count": 10,
   "metadata": {},
   "outputs": [
    {
     "data": {
      "image/png": "[encoded data removed]",
      "text/plain": [
       "<Figure size 864x288 with 1 Axes>"
      ]
     },
     "metadata": {
      "needs_background": "light"
     },
     "output_type": "display_data"
    }
   ],
   "source": [
    "plt.figure(figsize=(12,4))\n",
    "plt.title('Beer, Wine, and Alcohol Sales')\n",
    "plt.ylabel('Sales (millions of dollars)')\n",
    "plt.grid(True)\n",
    "plt.autoscale(axis='x',tight=True)\n",
    "plt.plot(df['S4248SM144NCEN'])\n",
    "plt.show()"
   ]
  },
  {
   "attachments": {},
   "cell_type": "markdown",
   "metadata": {},
   "source": [
    "## Data preparartion\n",
    "In the next steps we'll divide the data into train/test sets, then normalize the training values so that they fall between -1 and 1 (to improve training). We'll train the model, then predict into a period that matches the test set. Finally, we'll forecast into an unknown future."
   ]
  },
  {
   "cell_type": "code",
   "execution_count": 11,
   "metadata": {},
   "outputs": [],
   "source": [
    "# Extract values from the source .csv file\n",
    "y = df['S4248SM144NCEN'].values.astype(float)\n",
    "\n",
    "# Define a test size\n",
    "test_size = 12\n",
    "\n",
    "# Create train and test sets\n",
    "train_set = y[:-test_size]\n",
    "test_set = y[-test_size:]"
   ]
  },
  {
   "cell_type": "code",
   "execution_count": 13,
   "metadata": {},
   "outputs": [
    {
     "name": "stdout",
     "output_type": "stream",
     "text": [
      "shape of train_set : (313,)\n",
      "shape of test_set : (12,)\n"
     ]
    }
   ],
   "source": [
    "print(f\"shape of train_set : {train_set.shape}\")\n",
    "print(f\"shape of test_set : {test_set.shape}\")"
   ]
  },
  {
   "attachments": {},
   "cell_type": "markdown",
   "metadata": {},
   "source": [
    "It's worth noting that in our previous exercise the train and test sets were tensors. Here they're numpy arrays. This is because one of the steps we're about to perform outputs an array, and we'd have to turn it into a tensor anyway."
   ]
  },
  {
   "cell_type": "code",
   "execution_count": null,
   "metadata": {},
   "outputs": [],
   "source": []
  },
  {
   "attachments": {},
   "cell_type": "markdown",
   "metadata": {},
   "source": [
    "## Normalize the data\n",
    "The formula for normalizing data around zero is:<br>\n",
    "### $X_{norm} = \\frac{X - \\mu} {\\sigma}$\n",
    "where $\\mu$ is the population mean, and $\\sigma$ is the population standard deviation.<br>\n",
    "Recall that back in the CNN section we transformed image files using <a href='https://pytorch.org/docs/stable/torchvision/transforms.html#torchvision.transforms.Normalize'><tt><strong>torchvision.transforms.Normalize(<em>mean, std</em>)</strong></tt></a>, both because it was built into DataLoader, and because our pretrained models expected specific normalization values.<br>\n",
    "\n",
    "Ultimately we want to perform <a href='https://en.wikipedia.org/wiki/Feature_scaling'>min/max feature scaling</a> so that our values fall between -1 and 1, as this makes hyperparameters converge faster.<br>The formula for this would be:<br>\n",
    "### $X^{\\prime} = a + \\frac{(X - X_{min}) (b - a)} {X_{max} - X_{min}}$\n",
    "where $a={-1}$ and $b=1$<br>\n",
    "\n",
    "We can use scikit-learn to do this, with <a href='https://scikit-learn.org/stable/modules/generated/sklearn.preprocessing.MinMaxScaler.html'><tt><strong>sklearn.preprocessing.MinMaxScaler()</strong></tt></a>\n",
    "\n",
    "NOTE: We only want to normalize the training set to avoid data leakage. If we include the test set then the higher average values of the test set could become part of the signal in the training set. There's a good article on data leakage <a href='test_set = input_data(test_norm,window_size)'>here</a>.\n",
    "\n",
    "After using transformed data to train the model and generate predictions, we'll inverse_transform the predicted values so that we can compare them to the actual test data."
   ]
  },
  {
   "cell_type": "code",
   "execution_count": 14,
   "metadata": {},
   "outputs": [],
   "source": [
    "from sklearn.preprocessing import MinMaxScaler\n",
    "\n",
    "# Instantiate a scaler with a feature range from -1 to 1\n",
    "scaler = MinMaxScaler(feature_range=(-1, 1))"
   ]
  },
  {
   "cell_type": "code",
   "execution_count": 15,
   "metadata": {},
   "outputs": [],
   "source": [
    "# Normalize the training set\n",
    "train_norm = scaler.fit_transform(train_set.reshape(-1, 1))"
   ]
  },
  {
   "cell_type": "code",
   "execution_count": 17,
   "metadata": {},
   "outputs": [
    {
     "data": {
      "text/plain": [
       "array([[-0.92683135],\n",
       "       [-0.92700231],\n",
       "       [-0.83400291],\n",
       "       [-0.73792632],\n",
       "       [-0.79656381],\n",
       "       [-0.74390974],\n",
       "       [-0.75467989],\n",
       "       [-0.81092401],\n",
       "       [-0.81280451],\n",
       "       [-0.79006753]])"
      ]
     },
     "execution_count": 17,
     "metadata": {},
     "output_type": "execute_result"
    }
   ],
   "source": [
    "train_norm[:10]"
   ]
  },
  {
   "attachments": {},
   "cell_type": "markdown",
   "metadata": {},
   "source": [
    "## Data preparation for LSTM training\n",
    "\n",
    "Here we'll create our list of (seq/label) tuples from the training set. Recall that an LSTM consumes a window of samples toward the first prediction, so the size of our training set will become ((325 - test_size) - window_size)."
   ]
  },
  {
   "cell_type": "code",
   "execution_count": 19,
   "metadata": {},
   "outputs": [
    {
     "data": {
      "text/plain": [
       "301"
      ]
     },
     "execution_count": 19,
     "metadata": {},
     "output_type": "execute_result"
    }
   ],
   "source": [
    "# Convert train_norm from an array to a tensor\n",
    "train_norm = torch.FloatTensor(train_norm).view(-1)\n",
    "\n",
    "# Define a window size\n",
    "window_size = 12\n",
    "\n",
    "# Define function to create seq/label tuples\n",
    "def input_data(seq, ws):  # ws is the window size\n",
    "    out = []\n",
    "    L = len(seq)\n",
    "    for i in range(L-ws):\n",
    "        window = seq[i:i+ws]\n",
    "        label = seq[i+ws:i+ws+1]\n",
    "        out.append((window,label))\n",
    "    return out\n",
    "\n",
    "# Apply the input_data function to train_norm\n",
    "train_data = input_data(train_norm,window_size)\n",
    "len(train_data)  # this should equal 325-12-12"
   ]
  },
  {
   "cell_type": "code",
   "execution_count": 20,
   "metadata": {},
   "outputs": [
    {
     "data": {
      "text/plain": [
       "[(tensor([-0.9268, -0.9270, -0.8340, -0.7379, -0.7966, -0.7439, -0.7547, -0.8109,\n",
       "          -0.8128, -0.7901, -0.7933, -0.6743]),\n",
       "  tensor([-1.])),\n",
       " (tensor([-0.9270, -0.8340, -0.7379, -0.7966, -0.7439, -0.7547, -0.8109, -0.8128,\n",
       "          -0.7901, -0.7933, -0.6743, -1.0000]),\n",
       "  tensor([-0.9607]))]"
      ]
     },
     "execution_count": 20,
     "metadata": {},
     "output_type": "execute_result"
    }
   ],
   "source": [
    "train_data[:2]"
   ]
  },
  {
   "attachments": {},
   "cell_type": "markdown",
   "metadata": {},
   "source": [
    "## Define the model\n",
    "\n",
    "We will be using an LSTM layer of size (1, 1000)."
   ]
  },
  {
   "cell_type": "code",
   "execution_count": 23,
   "metadata": {},
   "outputs": [],
   "source": [
    "class SalesPredictor(nn.Module):\n",
    "\n",
    "    def __init__(self, input_size=1, hidden_size=100, output_size=1):\n",
    "        super().__init__()\n",
    "        self.hidden_size = hidden_size\n",
    "        self.lstm = nn.LSTM(input_size, hidden_size)\n",
    "        self.linear = nn.Linear(hidden_size, output_size)\n",
    "        self.hidden = (torch.zeros(1, 1, self.hidden_size),\n",
    "                       torch.zeros(1, 1, self.hidden_size))\n",
    "    def forward(self, seq):\n",
    "        out, self.hidden = self.lstm(seq.view(len(seq), 1, -1), self.hidden)\n",
    "        pred = self.linear(out.view(len(seq), -1))\n",
    "        return pred[-1]"
   ]
  },
  {
   "attachments": {},
   "cell_type": "markdown",
   "metadata": {},
   "source": [
    "## Instantiate the model and define the loss and optimizer"
   ]
  },
  {
   "cell_type": "code",
   "execution_count": 27,
   "metadata": {},
   "outputs": [
    {
     "data": {
      "text/plain": [
       "SalesPredictor(\n",
       "  (lstm): LSTM(1, 100)\n",
       "  (linear): Linear(in_features=100, out_features=1, bias=True)\n",
       ")"
      ]
     },
     "execution_count": 27,
     "metadata": {},
     "output_type": "execute_result"
    }
   ],
   "source": [
    "predictorModel = SalesPredictor()\n",
    "criterion = nn.MSELoss()\n",
    "optimizer = torch.optim.Adam(predictorModel.parameters(), lr=0.001)\n",
    "\n",
    "predictorModel"
   ]
  },
  {
   "attachments": {},
   "cell_type": "markdown",
   "metadata": {},
   "source": [
    "## Model's training"
   ]
  },
  {
   "cell_type": "code",
   "execution_count": 28,
   "metadata": {},
   "outputs": [
    {
     "name": "stdout",
     "output_type": "stream",
     "text": [
      "Epoch:  1 Loss: 0.35190338\n",
      "Epoch:  2 Loss: 0.26623961\n",
      "Epoch:  3 Loss: 0.36587891\n",
      "Epoch:  4 Loss: 0.33205000\n",
      "Epoch:  5 Loss: 0.33353198\n",
      "Epoch:  6 Loss: 0.32276595\n",
      "Epoch:  7 Loss: 0.32566583\n",
      "Epoch:  8 Loss: 0.30425122\n",
      "Epoch:  9 Loss: 0.32415488\n",
      "Epoch: 10 Loss: 0.28229472\n",
      "Epoch: 11 Loss: 0.31547359\n",
      "Epoch: 12 Loss: 0.27549812\n",
      "Epoch: 13 Loss: 0.29986337\n",
      "Epoch: 14 Loss: 0.25181815\n",
      "Epoch: 15 Loss: 0.28466749\n",
      "Epoch: 16 Loss: 0.20359342\n",
      "Epoch: 17 Loss: 0.16369571\n",
      "Epoch: 18 Loss: 0.08742281\n",
      "Epoch: 19 Loss: 0.00328820\n",
      "Epoch: 20 Loss: 0.17624366\n",
      "Epoch: 21 Loss: 0.04717605\n",
      "Epoch: 22 Loss: 0.00559546\n",
      "Epoch: 23 Loss: 0.01555043\n",
      "Epoch: 24 Loss: 0.02322063\n",
      "Epoch: 25 Loss: 0.06504883\n",
      "Epoch: 26 Loss: 0.04276101\n",
      "Epoch: 27 Loss: 0.00078148\n",
      "Epoch: 28 Loss: 0.03312317\n",
      "Epoch: 29 Loss: 0.04975151\n",
      "Epoch: 30 Loss: 0.03943659\n",
      "Epoch: 31 Loss: 0.01267170\n",
      "Epoch: 32 Loss: 0.00776969\n",
      "Epoch: 33 Loss: 0.00725949\n",
      "Epoch: 34 Loss: 0.00771704\n",
      "Epoch: 35 Loss: 0.00872793\n",
      "Epoch: 36 Loss: 0.00943791\n",
      "Epoch: 37 Loss: 0.00894835\n",
      "Epoch: 38 Loss: 0.00614477\n",
      "Epoch: 39 Loss: 0.00905585\n",
      "Epoch: 40 Loss: 0.02586778\n",
      "Epoch: 41 Loss: 0.01869943\n",
      "Epoch: 42 Loss: 0.01087153\n",
      "Epoch: 43 Loss: 0.00717327\n",
      "Epoch: 44 Loss: 0.00576406\n",
      "Epoch: 45 Loss: 0.00384349\n",
      "Epoch: 46 Loss: 0.00126416\n",
      "Epoch: 47 Loss: 0.00010236\n",
      "Epoch: 48 Loss: 0.00018587\n",
      "Epoch: 49 Loss: 0.00063291\n",
      "Epoch: 50 Loss: 0.00068379\n",
      "Epoch: 51 Loss: 0.00051581\n",
      "Epoch: 52 Loss: 0.00021699\n",
      "Epoch: 53 Loss: 0.00001485\n",
      "Epoch: 54 Loss: 0.00000940\n",
      "Epoch: 55 Loss: 0.00002078\n",
      "Epoch: 56 Loss: 0.00008459\n",
      "Epoch: 57 Loss: 0.00026093\n",
      "Epoch: 58 Loss: 0.00037156\n",
      "Epoch: 59 Loss: 0.00033317\n",
      "Epoch: 60 Loss: 0.00032976\n",
      "Epoch: 61 Loss: 0.00041958\n",
      "Epoch: 62 Loss: 0.00044047\n",
      "Epoch: 63 Loss: 0.00050251\n",
      "Epoch: 64 Loss: 0.00105786\n",
      "Epoch: 65 Loss: 0.00012933\n",
      "Epoch: 66 Loss: 0.00079503\n",
      "Epoch: 67 Loss: 0.00034435\n",
      "Epoch: 68 Loss: 0.00008737\n",
      "Epoch: 69 Loss: 0.00026838\n",
      "Epoch: 70 Loss: 0.00051029\n",
      "Epoch: 71 Loss: 0.00040797\n",
      "Epoch: 72 Loss: 0.00032314\n",
      "Epoch: 73 Loss: 0.00033714\n",
      "Epoch: 74 Loss: 0.00057400\n",
      "Epoch: 75 Loss: 0.00246433\n",
      "Epoch: 76 Loss: 0.00277913\n",
      "Epoch: 77 Loss: 0.00184956\n",
      "Epoch: 78 Loss: 0.00029109\n",
      "Epoch: 79 Loss: 0.00015206\n",
      "Epoch: 80 Loss: 0.00046554\n",
      "Epoch: 81 Loss: 0.00284721\n",
      "Epoch: 82 Loss: 0.00022324\n",
      "Epoch: 83 Loss: 0.00173459\n",
      "Epoch: 84 Loss: 0.00000126\n",
      "Epoch: 85 Loss: 0.00006724\n",
      "Epoch: 86 Loss: 0.00159185\n",
      "Epoch: 87 Loss: 0.00079963\n",
      "Epoch: 88 Loss: 0.00010014\n",
      "Epoch: 89 Loss: 0.00055208\n",
      "Epoch: 90 Loss: 0.00174644\n",
      "Epoch: 91 Loss: 0.00001737\n",
      "Epoch: 92 Loss: 0.00011067\n",
      "Epoch: 93 Loss: 0.00003381\n",
      "Epoch: 94 Loss: 0.00011891\n",
      "Epoch: 95 Loss: 0.00051561\n",
      "Epoch: 96 Loss: 0.00019498\n",
      "Epoch: 97 Loss: 0.00012084\n",
      "Epoch: 98 Loss: 0.00000491\n",
      "Epoch: 99 Loss: 0.00039270\n",
      "Epoch: 100 Loss: 0.00003053\n",
      "\n",
      "Duration: 37 seconds\n"
     ]
    }
   ],
   "source": [
    "epochs = 100\n",
    "\n",
    "import time\n",
    "start_time = time.time()\n",
    "\n",
    "for epoch in range(epochs):\n",
    "    \n",
    "    # extract the sequence & label from the training data\n",
    "    for seq, y_train in train_data:\n",
    "        \n",
    "        # reset the parameters and hidden states\n",
    "        optimizer.zero_grad()\n",
    "        predictorModel.hidden = (torch.zeros(1,1,predictorModel.hidden_size),\n",
    "                        torch.zeros(1,1,predictorModel.hidden_size))\n",
    "        \n",
    "        y_pred = predictorModel(seq)\n",
    "        \n",
    "        loss = criterion(y_pred, y_train)\n",
    "        loss.backward()\n",
    "        optimizer.step()\n",
    "        \n",
    "    # print training result\n",
    "    print(f'Epoch: {epoch+1:2} Loss: {loss.item():10.8f}')\n",
    "    \n",
    "print(f'\\nDuration: {time.time() - start_time:.0f} seconds')"
   ]
  },
  {
   "attachments": {},
   "cell_type": "markdown",
   "metadata": {},
   "source": [
    "## Model's inference"
   ]
  },
  {
   "cell_type": "code",
   "execution_count": 29,
   "metadata": {},
   "outputs": [],
   "source": [
    "future = 12\n",
    "\n",
    "# Add the last window of training values to the list of predictions\n",
    "preds = train_norm[-window_size:].tolist()\n",
    "\n",
    "# Set the model to evaluation mode\n",
    "predictorModel.eval()\n",
    "\n",
    "for i in range(future):\n",
    "    seq = torch.FloatTensor(preds[-window_size:])\n",
    "    with torch.no_grad():\n",
    "        predictorModel.hidden = (torch.zeros(1,1,predictorModel.hidden_size),\n",
    "                        torch.zeros(1,1,predictorModel.hidden_size))\n",
    "        preds.append(predictorModel(seq).item())"
   ]
  },
  {
   "cell_type": "code",
   "execution_count": 30,
   "metadata": {},
   "outputs": [
    {
     "data": {
      "text/plain": [
       "[0.2915477454662323,\n",
       " 0.6417349576950073,\n",
       " 0.541263997554779,\n",
       " 0.7784364223480225,\n",
       " 0.9582229256629944,\n",
       " 0.42163175344467163,\n",
       " 0.719091534614563,\n",
       " 0.5792573690414429,\n",
       " 0.6042646169662476,\n",
       " 0.7744214534759521,\n",
       " 0.9033939838409424,\n",
       " 0.08176461607217789]"
      ]
     },
     "execution_count": 30,
     "metadata": {},
     "output_type": "execute_result"
    }
   ],
   "source": [
    "preds[window_size:]  "
   ]
  },
  {
   "attachments": {},
   "cell_type": "markdown",
   "metadata": {},
   "source": [
    "Let's invert the prediction so that we can compare them with original values in test sets.\n",
    "\n",
    "Note that <tt>inverse_transform</tt> uses the most recently applied parameters; we can rescale based on the test data, but not on the previous training data."
   ]
  },
  {
   "cell_type": "code",
   "execution_count": 41,
   "metadata": {},
   "outputs": [],
   "source": [
    "true_prediction = scaler.inverse_transform(np.array(preds[window_size:]).reshape(1, -1))\n",
    "true_prediction = true_prediction.squeeze()"
   ]
  },
  {
   "cell_type": "code",
   "execution_count": 42,
   "metadata": {},
   "outputs": [
    {
     "data": {
      "text/plain": [
       "DATE\n",
       "2018-02-01    10415\n",
       "2018-03-01    12683\n",
       "2018-04-01    11919\n",
       "2018-05-01    14138\n",
       "2018-06-01    14583\n",
       "2018-07-01    12640\n",
       "2018-08-01    14257\n",
       "2018-09-01    12396\n",
       "2018-10-01    13914\n",
       "2018-11-01    14174\n",
       "2018-12-01    15504\n",
       "2019-01-01    10718\n",
       "Name: S4248SM144NCEN, dtype: int64"
      ]
     },
     "execution_count": 42,
     "metadata": {},
     "output_type": "execute_result"
    }
   ],
   "source": [
    "df['S4248SM144NCEN'][-12:]"
   ]
  },
  {
   "attachments": {},
   "cell_type": "markdown",
   "metadata": {},
   "source": [
    "## Plot the results\n",
    "Our original data contains a datetime index, but our predicted values do not. We can create a range of dates using NumPy that are spaced one month apart using <tt>dtype='datetime64[M]'</tt>, and then store them with day values to match our dataset with <tt>.astype('datetime64[D]')</tt>."
   ]
  },
  {
   "cell_type": "code",
   "execution_count": 43,
   "metadata": {},
   "outputs": [
    {
     "data": {
      "text/plain": [
       "array(['2018-02-01', '2018-03-01', '2018-04-01', '2018-05-01',\n",
       "       '2018-06-01', '2018-07-01', '2018-08-01', '2018-09-01',\n",
       "       '2018-10-01', '2018-11-01', '2018-12-01', '2019-01-01'],\n",
       "      dtype='datetime64[D]')"
      ]
     },
     "execution_count": 43,
     "metadata": {},
     "output_type": "execute_result"
    }
   ],
   "source": [
    "# Remember that the stop date has to be later than the last predicted value.\n",
    "x = np.arange('2018-02-01', '2019-02-01', dtype='datetime64[M]').astype('datetime64[D]')\n",
    "x"
   ]
  },
  {
   "cell_type": "code",
   "execution_count": 44,
   "metadata": {},
   "outputs": [
    {
     "data": {
      "image/png": "[encoded data removed]",
      "text/plain": [
       "<Figure size 864x288 with 1 Axes>"
      ]
     },
     "metadata": {
      "needs_background": "light"
     },
     "output_type": "display_data"
    }
   ],
   "source": [
    "plt.figure(figsize=(12,4))\n",
    "plt.title('Beer, Wine, and Alcohol Sales')\n",
    "plt.ylabel('Sales (millions of dollars)')\n",
    "plt.grid(True)\n",
    "plt.autoscale(axis='x',tight=True)\n",
    "plt.plot(df['S4248SM144NCEN'])\n",
    "plt.plot(x,true_prediction)\n",
    "plt.show()"
   ]
  },
  {
   "cell_type": "code",
   "execution_count": 46,
   "metadata": {},
   "outputs": [
    {
     "data": {
      "image/png": "[encoded data removed]",
      "text/plain": [
       "<Figure size 864x288 with 1 Axes>"
      ]
     },
     "metadata": {
      "needs_background": "light"
     },
     "output_type": "display_data"
    }
   ],
   "source": [
    "# Plot the end of the graph\n",
    "fig = plt.figure(figsize=(12,4))\n",
    "plt.title('Beer, Wine, and Alcohol Sales')\n",
    "plt.ylabel('Sales (millions of dollars)')\n",
    "plt.grid(True)\n",
    "plt.autoscale(axis='x',tight=True)\n",
    "fig.autofmt_xdate()\n",
    "\n",
    "# Select the end of the graph with slice notation:\n",
    "plt.plot(df['S4248SM144NCEN']['2017-01-01':])\n",
    "plt.plot(x,true_prediction)\n",
    "plt.show()"
   ]
  },
  {
   "cell_type": "code",
   "execution_count": null,
   "metadata": {},
   "outputs": [],
   "source": []
  }
 ],
 "metadata": {
  "kernelspec": {
   "display_name": "base",
   "language": "python",
   "name": "python3"
  },
  "language_info": {
   "codemirror_mode": {
    "name": "ipython",
    "version": 3
   },
   "file_extension": ".py",
   "mimetype": "text/x-python",
   "name": "python",
   "nbconvert_exporter": "python",
   "pygments_lexer": "ipython3",
   "version": "3.9.12"
  },
  "orig_nbformat": 4
 },
 "nbformat": 4,
 "nbformat_minor": 2
}
